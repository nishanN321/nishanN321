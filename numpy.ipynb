{
  "nbformat": 4,
  "nbformat_minor": 0,
  "metadata": {
    "colab": {
      "provenance": [],
      "authorship_tag": "ABX9TyN7t51aPv7dAvEYTtXaoBFv",
      "include_colab_link": true
    },
    "kernelspec": {
      "name": "python3",
      "display_name": "Python 3"
    },
    "language_info": {
      "name": "python"
    }
  },
  "cells": [
    {
      "cell_type": "markdown",
      "metadata": {
        "id": "view-in-github",
        "colab_type": "text"
      },
      "source": [
        "<a href=\"https://colab.research.google.com/github/nishanN321/nishanN321/blob/main/numpy.ipynb\" target=\"_parent\"><img src=\"https://colab.research.google.com/assets/colab-badge.svg\" alt=\"Open In Colab\"/></a>"
      ]
    },
    {
      "cell_type": "code",
      "execution_count": null,
      "metadata": {
        "id": "XUSRkkOOvPDc"
      },
      "outputs": [],
      "source": []
    },
    {
      "cell_type": "markdown",
      "source": [
        "## Machine learning roadmap\n",
        "- numpy\n",
        "- pandas\n",
        "- skit learn\n",
        "- matplotlib\n",
        "- seaborn"
      ],
      "metadata": {
        "id": "IE05gxJiwAKe"
      }
    },
    {
      "cell_type": "code",
      "source": [
        "import numpy as np"
      ],
      "metadata": {
        "id": "CO7u9Q3FwFJm"
      },
      "execution_count": 1,
      "outputs": []
    },
    {
      "cell_type": "code",
      "source": [],
      "metadata": {
        "id": "Kbi76oMWwaHY"
      },
      "execution_count": null,
      "outputs": []
    },
    {
      "cell_type": "markdown",
      "source": [
        "#### creating array"
      ],
      "metadata": {
        "id": "0ovE8kCzwcWB"
      }
    },
    {
      "cell_type": "code",
      "source": [
        "np.zeros(10)"
      ],
      "metadata": {
        "colab": {
          "base_uri": "https://localhost:8080/"
        },
        "id": "5I_Unefpwi_B",
        "outputId": "32b80399-942d-4bcd-aeaf-82b47dcb624b"
      },
      "execution_count": 2,
      "outputs": [
        {
          "output_type": "execute_result",
          "data": {
            "text/plain": [
              "array([0., 0., 0., 0., 0., 0., 0., 0., 0., 0.])"
            ]
          },
          "metadata": {},
          "execution_count": 2
        }
      ]
    },
    {
      "cell_type": "code",
      "source": [
        "np.ones(10)"
      ],
      "metadata": {
        "colab": {
          "base_uri": "https://localhost:8080/"
        },
        "id": "iBVpzomiwnjy",
        "outputId": "0e0da5c6-ec3e-4054-9172-db5c40d51f61"
      },
      "execution_count": 3,
      "outputs": [
        {
          "output_type": "execute_result",
          "data": {
            "text/plain": [
              "array([1., 1., 1., 1., 1., 1., 1., 1., 1., 1.])"
            ]
          },
          "metadata": {},
          "execution_count": 3
        }
      ]
    },
    {
      "cell_type": "code",
      "source": [
        "np.full(10,3)"
      ],
      "metadata": {
        "colab": {
          "base_uri": "https://localhost:8080/"
        },
        "id": "HEaKijChwsw7",
        "outputId": "ed958496-9067-480f-ea40-4b07d172d740"
      },
      "execution_count": 4,
      "outputs": [
        {
          "output_type": "execute_result",
          "data": {
            "text/plain": [
              "array([3, 3, 3, 3, 3, 3, 3, 3, 3, 3])"
            ]
          },
          "metadata": {},
          "execution_count": 4
        }
      ]
    },
    {
      "cell_type": "code",
      "source": [
        "np.array([1,2,3,4,5])"
      ],
      "metadata": {
        "colab": {
          "base_uri": "https://localhost:8080/"
        },
        "id": "lghcn8H-w2p7",
        "outputId": "6c61fcd0-a0bb-4c31-80a7-a4cd4708d246"
      },
      "execution_count": 5,
      "outputs": [
        {
          "output_type": "execute_result",
          "data": {
            "text/plain": [
              "array([1, 2, 3, 4, 5])"
            ]
          },
          "metadata": {},
          "execution_count": 5
        }
      ]
    },
    {
      "cell_type": "code",
      "source": [
        "#we can access element using index\n",
        "arr = np.array([1,2,3,4,5,6,7,8])\n",
        "arr[1] = 20\n",
        "arr"
      ],
      "metadata": {
        "colab": {
          "base_uri": "https://localhost:8080/"
        },
        "id": "6t_7jKi1xTjg",
        "outputId": "748cd8e3-3bea-4c1a-b31e-277208f3c11b"
      },
      "execution_count": 6,
      "outputs": [
        {
          "output_type": "execute_result",
          "data": {
            "text/plain": [
              "array([ 1, 20,  3,  4,  5,  6,  7,  8])"
            ]
          },
          "metadata": {},
          "execution_count": 6
        }
      ]
    },
    {
      "cell_type": "code",
      "source": [
        "np.arange(2,610)"
      ],
      "metadata": {
        "colab": {
          "base_uri": "https://localhost:8080/"
        },
        "id": "t9Y567jKxqsS",
        "outputId": "2fd7b065-d416-4a95-960b-168e0f305ddd"
      },
      "execution_count": 11,
      "outputs": [
        {
          "output_type": "execute_result",
          "data": {
            "text/plain": [
              "array([  2,   3,   4,   5,   6,   7,   8,   9,  10,  11,  12,  13,  14,\n",
              "        15,  16,  17,  18,  19,  20,  21,  22,  23,  24,  25,  26,  27,\n",
              "        28,  29,  30,  31,  32,  33,  34,  35,  36,  37,  38,  39,  40,\n",
              "        41,  42,  43,  44,  45,  46,  47,  48,  49,  50,  51,  52,  53,\n",
              "        54,  55,  56,  57,  58,  59,  60,  61,  62,  63,  64,  65,  66,\n",
              "        67,  68,  69,  70,  71,  72,  73,  74,  75,  76,  77,  78,  79,\n",
              "        80,  81,  82,  83,  84,  85,  86,  87,  88,  89,  90,  91,  92,\n",
              "        93,  94,  95,  96,  97,  98,  99, 100, 101, 102, 103, 104, 105,\n",
              "       106, 107, 108, 109, 110, 111, 112, 113, 114, 115, 116, 117, 118,\n",
              "       119, 120, 121, 122, 123, 124, 125, 126, 127, 128, 129, 130, 131,\n",
              "       132, 133, 134, 135, 136, 137, 138, 139, 140, 141, 142, 143, 144,\n",
              "       145, 146, 147, 148, 149, 150, 151, 152, 153, 154, 155, 156, 157,\n",
              "       158, 159, 160, 161, 162, 163, 164, 165, 166, 167, 168, 169, 170,\n",
              "       171, 172, 173, 174, 175, 176, 177, 178, 179, 180, 181, 182, 183,\n",
              "       184, 185, 186, 187, 188, 189, 190, 191, 192, 193, 194, 195, 196,\n",
              "       197, 198, 199, 200, 201, 202, 203, 204, 205, 206, 207, 208, 209,\n",
              "       210, 211, 212, 213, 214, 215, 216, 217, 218, 219, 220, 221, 222,\n",
              "       223, 224, 225, 226, 227, 228, 229, 230, 231, 232, 233, 234, 235,\n",
              "       236, 237, 238, 239, 240, 241, 242, 243, 244, 245, 246, 247, 248,\n",
              "       249, 250, 251, 252, 253, 254, 255, 256, 257, 258, 259, 260, 261,\n",
              "       262, 263, 264, 265, 266, 267, 268, 269, 270, 271, 272, 273, 274,\n",
              "       275, 276, 277, 278, 279, 280, 281, 282, 283, 284, 285, 286, 287,\n",
              "       288, 289, 290, 291, 292, 293, 294, 295, 296, 297, 298, 299, 300,\n",
              "       301, 302, 303, 304, 305, 306, 307, 308, 309, 310, 311, 312, 313,\n",
              "       314, 315, 316, 317, 318, 319, 320, 321, 322, 323, 324, 325, 326,\n",
              "       327, 328, 329, 330, 331, 332, 333, 334, 335, 336, 337, 338, 339,\n",
              "       340, 341, 342, 343, 344, 345, 346, 347, 348, 349, 350, 351, 352,\n",
              "       353, 354, 355, 356, 357, 358, 359, 360, 361, 362, 363, 364, 365,\n",
              "       366, 367, 368, 369, 370, 371, 372, 373, 374, 375, 376, 377, 378,\n",
              "       379, 380, 381, 382, 383, 384, 385, 386, 387, 388, 389, 390, 391,\n",
              "       392, 393, 394, 395, 396, 397, 398, 399, 400, 401, 402, 403, 404,\n",
              "       405, 406, 407, 408, 409, 410, 411, 412, 413, 414, 415, 416, 417,\n",
              "       418, 419, 420, 421, 422, 423, 424, 425, 426, 427, 428, 429, 430,\n",
              "       431, 432, 433, 434, 435, 436, 437, 438, 439, 440, 441, 442, 443,\n",
              "       444, 445, 446, 447, 448, 449, 450, 451, 452, 453, 454, 455, 456,\n",
              "       457, 458, 459, 460, 461, 462, 463, 464, 465, 466, 467, 468, 469,\n",
              "       470, 471, 472, 473, 474, 475, 476, 477, 478, 479, 480, 481, 482,\n",
              "       483, 484, 485, 486, 487, 488, 489, 490, 491, 492, 493, 494, 495,\n",
              "       496, 497, 498, 499, 500, 501, 502, 503, 504, 505, 506, 507, 508,\n",
              "       509, 510, 511, 512, 513, 514, 515, 516, 517, 518, 519, 520, 521,\n",
              "       522, 523, 524, 525, 526, 527, 528, 529, 530, 531, 532, 533, 534,\n",
              "       535, 536, 537, 538, 539, 540, 541, 542, 543, 544, 545, 546, 547,\n",
              "       548, 549, 550, 551, 552, 553, 554, 555, 556, 557, 558, 559, 560,\n",
              "       561, 562, 563, 564, 565, 566, 567, 568, 569, 570, 571, 572, 573,\n",
              "       574, 575, 576, 577, 578, 579, 580, 581, 582, 583, 584, 585, 586,\n",
              "       587, 588, 589, 590, 591, 592, 593, 594, 595, 596, 597, 598, 599,\n",
              "       600, 601, 602, 603, 604, 605, 606, 607, 608, 609])"
            ]
          },
          "metadata": {},
          "execution_count": 11
        }
      ]
    },
    {
      "cell_type": "code",
      "source": [
        "np.linspace(0,100,11)"
      ],
      "metadata": {
        "colab": {
          "base_uri": "https://localhost:8080/"
        },
        "id": "S50vuaNFyNLd",
        "outputId": "c6f58fc3-c483-415a-9748-623cd1255cd3"
      },
      "execution_count": 12,
      "outputs": [
        {
          "output_type": "execute_result",
          "data": {
            "text/plain": [
              "array([  0.,  10.,  20.,  30.,  40.,  50.,  60.,  70.,  80.,  90., 100.])"
            ]
          },
          "metadata": {},
          "execution_count": 12
        }
      ]
    },
    {
      "cell_type": "markdown",
      "source": [
        "###multidimensional array"
      ],
      "metadata": {
        "id": "mSwV9vU9yTYu"
      }
    },
    {
      "cell_type": "code",
      "source": [
        "# zeromatrix of size 3*5\n",
        "np.zeros((3,5))"
      ],
      "metadata": {
        "colab": {
          "base_uri": "https://localhost:8080/"
        },
        "id": "g-POagM-yW6W",
        "outputId": "3963b6b2-4b02-4512-cc75-c101a6be7945"
      },
      "execution_count": 13,
      "outputs": [
        {
          "output_type": "execute_result",
          "data": {
            "text/plain": [
              "array([[0., 0., 0., 0., 0.],\n",
              "       [0., 0., 0., 0., 0.],\n",
              "       [0., 0., 0., 0., 0.]])"
            ]
          },
          "metadata": {},
          "execution_count": 13
        }
      ]
    },
    {
      "cell_type": "code",
      "source": [
        "# matrix of size 3*3 with random numbers and replace the numbers with 1,2,3  4,5,6  7,8,9 and then replace 2,5,8, with 20,50,80\n",
        "matrix = np.array([[1,2,3],[3,4,5],[6,7,8]])\n",
        "matrix[0, ] = [2,5,8]\n",
        "matrix"
      ],
      "metadata": {
        "colab": {
          "base_uri": "https://localhost:8080/"
        },
        "id": "lIAKXSqVzBIL",
        "outputId": "07e57e2d-0d61-482b-e660-abf13f6b2cd5"
      },
      "execution_count": 17,
      "outputs": [
        {
          "output_type": "execute_result",
          "data": {
            "text/plain": [
              "array([[2, 5, 8],\n",
              "       [3, 4, 5],\n",
              "       [6, 7, 8]])"
            ]
          },
          "metadata": {},
          "execution_count": 17
        }
      ]
    },
    {
      "cell_type": "code",
      "source": [
        "matrix[1,] = [20,50,80]\n",
        "matrix"
      ],
      "metadata": {
        "colab": {
          "base_uri": "https://localhost:8080/"
        },
        "id": "N6u4wi6y04xR",
        "outputId": "3ca63d89-0ecd-4389-fcc1-09d71793526b"
      },
      "execution_count": 19,
      "outputs": [
        {
          "output_type": "execute_result",
          "data": {
            "text/plain": [
              "array([[ 2,  5,  8],\n",
              "       [20, 50, 80],\n",
              "       [ 6,  7,  8]])"
            ]
          },
          "metadata": {},
          "execution_count": 19
        }
      ]
    },
    {
      "cell_type": "code",
      "source": [
        "matrix[2,] = [3,5,7]\n",
        "matrix"
      ],
      "metadata": {
        "colab": {
          "base_uri": "https://localhost:8080/"
        },
        "id": "RhGty04_0_E2",
        "outputId": "2ab02c1f-4d92-496c-b278-632281e078a1"
      },
      "execution_count": 21,
      "outputs": [
        {
          "output_type": "execute_result",
          "data": {
            "text/plain": [
              "array([[ 2,  5,  8],\n",
              "       [20, 50, 80],\n",
              "       [ 3,  5,  7]])"
            ]
          },
          "metadata": {},
          "execution_count": 21
        }
      ]
    },
    {
      "cell_type": "code",
      "source": [
        "matrix\n"
      ],
      "metadata": {
        "colab": {
          "base_uri": "https://localhost:8080/"
        },
        "id": "olrTQOe01SCU",
        "outputId": "30a4ff4e-1b1d-4cb4-d315-d5c960ac08ae"
      },
      "execution_count": 24,
      "outputs": [
        {
          "output_type": "execute_result",
          "data": {
            "text/plain": [
              "array([[ 2,  5,  8],\n",
              "       [20, 50, 80],\n",
              "       [ 3,  5,  7]])"
            ]
          },
          "metadata": {},
          "execution_count": 24
        }
      ]
    },
    {
      "cell_type": "code",
      "source": [],
      "metadata": {
        "id": "zat6Nsm51kSd"
      },
      "execution_count": null,
      "outputs": []
    },
    {
      "cell_type": "markdown",
      "source": [
        "### randomly generated array\n",
        "- randn\n",
        "- randint\n",
        "- rand\n"
      ],
      "metadata": {
        "id": "D-wJnms71uh6"
      }
    },
    {
      "cell_type": "code",
      "source": [
        "#random numbers\n",
        "number = np.random.seed(2)\n",
        "np.random.rand(5,2)"
      ],
      "metadata": {
        "colab": {
          "base_uri": "https://localhost:8080/"
        },
        "id": "314vgngX2F-C",
        "outputId": "e44c1d4d-2bda-4536-c373-092ab4099324"
      },
      "execution_count": 31,
      "outputs": [
        {
          "output_type": "execute_result",
          "data": {
            "text/plain": [
              "array([[0.4359949 , 0.02592623],\n",
              "       [0.54966248, 0.43532239],\n",
              "       [0.4203678 , 0.33033482],\n",
              "       [0.20464863, 0.61927097],\n",
              "       [0.29965467, 0.26682728]])"
            ]
          },
          "metadata": {},
          "execution_count": 31
        }
      ]
    },
    {
      "cell_type": "markdown",
      "source": [
        "- use of seed\n",
        "- dataset - shufle and split\n",
        "- comparative analysis\n",
        "- random forest, svm, LR"
      ],
      "metadata": {
        "id": "2E32_vMs2prl"
      }
    },
    {
      "cell_type": "code",
      "source": [
        "#randint\n",
        "np.random.seed(2)\n",
        "np.random.randint(low= 0, high = 100, size = (5,3))"
      ],
      "metadata": {
        "colab": {
          "base_uri": "https://localhost:8080/"
        },
        "id": "SukLs4oH2pCe",
        "outputId": "491b8d01-b931-4328-a3ac-7954ae06d718"
      },
      "execution_count": 32,
      "outputs": [
        {
          "output_type": "execute_result",
          "data": {
            "text/plain": [
              "array([[40, 15, 72],\n",
              "       [22, 43, 82],\n",
              "       [75,  7, 34],\n",
              "       [49, 95, 75],\n",
              "       [85, 47, 63]])"
            ]
          },
          "metadata": {},
          "execution_count": 32
        }
      ]
    },
    {
      "cell_type": "markdown",
      "source": [
        "## linear algebra using numpy\n",
        "- vector operation\n",
        "- matrix multiplications\n",
        "- vector vector\n",
        "- matrix vector\n",
        "- matrix- matriz\n",
        "- identity matrix\n",
        "- inverse matrix"
      ],
      "metadata": {
        "id": "QKlbMcWN5Gw_"
      }
    },
    {
      "cell_type": "code",
      "source": [
        "u = np.array([2,4,5,6])\n",
        "\n",
        "\n",
        "2*u"
      ],
      "metadata": {
        "colab": {
          "base_uri": "https://localhost:8080/"
        },
        "id": "Pzi7GK3X5GQH",
        "outputId": "a16598f8-61bc-4d34-b38d-6f920c0ed03c"
      },
      "execution_count": 33,
      "outputs": [
        {
          "output_type": "execute_result",
          "data": {
            "text/plain": [
              "array([ 4,  8, 10, 12])"
            ]
          },
          "metadata": {},
          "execution_count": 33
        }
      ]
    },
    {
      "cell_type": "code",
      "source": [
        "v = np.array([1,0,0,2])\n",
        "\n",
        "u+v"
      ],
      "metadata": {
        "colab": {
          "base_uri": "https://localhost:8080/"
        },
        "id": "QJPO4CCk5_KV",
        "outputId": "c4b15a1f-dd02-4832-f46a-1453dc797c34"
      },
      "execution_count": 34,
      "outputs": [
        {
          "output_type": "execute_result",
          "data": {
            "text/plain": [
              "array([3, 4, 5, 8])"
            ]
          },
          "metadata": {},
          "execution_count": 34
        }
      ]
    },
    {
      "cell_type": "code",
      "source": [
        "u*v"
      ],
      "metadata": {
        "colab": {
          "base_uri": "https://localhost:8080/"
        },
        "id": "_hY45S7r6KgG",
        "outputId": "1c8e14ff-e626-46bb-b059-738e76adcae7"
      },
      "execution_count": 35,
      "outputs": [
        {
          "output_type": "execute_result",
          "data": {
            "text/plain": [
              "array([ 2,  0,  0, 12])"
            ]
          },
          "metadata": {},
          "execution_count": 35
        }
      ]
    },
    {
      "cell_type": "code",
      "source": [
        "v.shape[0]"
      ],
      "metadata": {
        "colab": {
          "base_uri": "https://localhost:8080/"
        },
        "id": "NMDKNmZs6ZVB",
        "outputId": "ac9d9088-4299-4087-fbaa-255fc72a4266"
      },
      "execution_count": 36,
      "outputs": [
        {
          "output_type": "execute_result",
          "data": {
            "text/plain": [
              "4"
            ]
          },
          "metadata": {},
          "execution_count": 36
        }
      ]
    },
    {
      "cell_type": "code",
      "source": [
        "def multply(u, v):\n",
        "  result = 0\n",
        ""
      ],
      "metadata": {
        "id": "_RVzEjsn6qaC"
      },
      "execution_count": null,
      "outputs": []
    },
    {
      "cell_type": "markdown",
      "source": [
        "### pandas\n",
        "- dataframe\n",
        "- series\n",
        "- index\n",
        "- access element\n",
        "- filtering\n",
        "- string operations\n",
        "- handling missing values"
      ],
      "metadata": {
        "id": "lmeTsK_N9Ii8"
      }
    }
  ]
}